{
  "nbformat": 4,
  "nbformat_minor": 0,
  "metadata": {
    "colab": {
      "provenance": [],
      "include_colab_link": true
    },
    "kernelspec": {
      "name": "python3",
      "display_name": "Python 3"
    },
    "language_info": {
      "name": "python"
    }
  },
  "cells": [
    {
      "cell_type": "markdown",
      "metadata": {
        "id": "view-in-github",
        "colab_type": "text"
      },
      "source": [
        "<a href=\"https://colab.research.google.com/github/Taaniya/reading-comprehension-task-with-LLM/blob/main/Exploring_Flan_T5_with_langchain.ipynb\" target=\"_parent\"><img src=\"https://colab.research.google.com/assets/colab-badge.svg\" alt=\"Open In Colab\"/></a>"
      ]
    },
    {
      "cell_type": "code",
      "source": [
        "! pip install transformers sentencepiece langchain PyPDF2 huggingface_hub"
      ],
      "metadata": {
        "id": "UpcVh0CqX7pE"
      },
      "execution_count": null,
      "outputs": []
    },
    {
      "cell_type": "code",
      "source": [
        "from langchain.document_loaders import UnstructuredURLLoader\n",
        "from langchain.document_loaders import PDFMinerLoader\n",
        "from langchain.document_loaders import TextLoader\n",
        "from langchain import PromptTemplate, HuggingFaceHub, LLMChain\n",
        "from PyPDF2 import PdfReader"
      ],
      "metadata": {
        "id": "ijNDGmz5Swiw"
      },
      "execution_count": null,
      "outputs": []
    },
    {
      "cell_type": "code",
      "source": [
        "api_key=\"\" #Hugging face API\n",
        "model_name = \"google/flan-t5-large\"\n",
        "\n",
        "def get_llm_response(question, answer):\n",
        "    template=\"Question: {question}\\n{answer}\"\n",
        "    prompt = PromptTemplate(template=template, input_variables=[\"question\", \"answer\"])\n",
        "    llm_chain = LLMChain(prompt=prompt, llm=HuggingFaceHub(repo_id=model_name, model_kwargs={\"temperature\":0, \"max_length\":4000}, \n",
        "                                                           huggingfacehub_api_token=api_key))\n",
        "    response = llm_chain.run(question=question, answer=answer)\n",
        "    return response\n",
        "\n"
      ],
      "metadata": {
        "id": "H2OFgQvfSyWc"
      },
      "execution_count": null,
      "outputs": []
    },
    {
      "cell_type": "code",
      "source": [
        "! ls"
      ],
      "metadata": {
        "colab": {
          "base_uri": "https://localhost:8080/"
        },
        "id": "eZ10YleQTC4w",
        "outputId": "ad530f2e-946e-426b-d5d3-d8affff421d8"
      },
      "execution_count": null,
      "outputs": [
        {
          "output_type": "stream",
          "name": "stdout",
          "text": [
            "pdf2text.txt  sample_data\n"
          ]
        }
      ]
    },
    {
      "cell_type": "code",
      "source": [
        "# Read the  PDF file. \n",
        "reader = PdfReader(\"./sample_data/knowledge_doc.pdf\") \n",
        "pdf_text = \"\"\n",
        "print(\"Total pages=\",len(reader.pages))      # Total pages in the pdf\n",
        "page_numbers_to_read = list(range(9))        # Specify which pages you want to read\n",
        "print(f\"Page numbers to read: {page_numbers_to_read}\")"
      ],
      "metadata": {
        "colab": {
          "base_uri": "https://localhost:8080/"
        },
        "id": "SLYwAPwXSz0T",
        "outputId": "e0b9a878-6d78-417c-d3f5-bf2b823c3d42"
      },
      "execution_count": null,
      "outputs": [
        {
          "output_type": "stream",
          "name": "stdout",
          "text": [
            "Total pages= 9\n",
            "Page numbers to read: [0, 1, 2, 3, 4, 5, 6, 7, 8]\n"
          ]
        }
      ]
    },
    {
      "cell_type": "code",
      "source": [
        "# Read the given pages\n",
        "for page in page_numbers_to_read:\n",
        "    page_text = reader.pages[page].extract_text()\n",
        "    print(\"Reading pages {} of :\\n{}\".format(page+1, str(len(reader.pages))))\n",
        "    pdf_text += page_text\n",
        "    \n",
        "#save the extracted data from pdf to a txt file\n",
        "file1=open(r\"pdf2text.txt\",\"a\")\n",
        "file1.writelines(pdf_text)\n",
        "print(\"file saved\")"
      ],
      "metadata": {
        "colab": {
          "base_uri": "https://localhost:8080/"
        },
        "id": "7nEQ-VdETHgd",
        "outputId": "19e5f2ed-2048-46a6-a8c7-dac7ff9b93f4"
      },
      "execution_count": null,
      "outputs": [
        {
          "output_type": "stream",
          "name": "stdout",
          "text": [
            "Reading pages 1 of :\n",
            "9\n",
            "Reading pages 2 of :\n",
            "9\n",
            "Reading pages 3 of :\n",
            "9\n",
            "Reading pages 4 of :\n",
            "9\n",
            "Reading pages 5 of :\n",
            "9\n",
            "Reading pages 6 of :\n",
            "9\n",
            "Reading pages 7 of :\n",
            "9\n",
            "Reading pages 8 of :\n",
            "9\n",
            "Reading pages 9 of :\n",
            "9\n",
            "file saved\n"
          ]
        }
      ]
    },
    {
      "cell_type": "code",
      "source": [
        "# Call the LLM with input data and instruction\n",
        "input_data=pdf_text\n",
        "instruction=\"What is average price?\"\n",
        "response = get_llm_response(input_data, instruction)\n",
        "print(\"LLM Response:\\n\",str(response))\n"
      ],
      "metadata": {
        "colab": {
          "base_uri": "https://localhost:8080/"
        },
        "id": "k05n-56nTKHc",
        "outputId": "cdabd4da-eb27-4109-c4ad-12fa70a0c3d8"
      },
      "execution_count": null,
      "outputs": [
        {
          "output_type": "stream",
          "name": "stdout",
          "text": [
            "LLM Response:\n",
            " Average price is the mean price of an asset or security observed over some period of time.\n"
          ]
        }
      ]
    },
    {
      "cell_type": "code",
      "source": [
        "# Call the LLM with input data and instruction\n",
        "input_data=pdf_text\n",
        "instruction=\"How do you calculate average stock price?\"\n",
        "response = get_llm_response(input_data, instruction)\n",
        "print(\"LLM Response:\\n\",str(response))\n"
      ],
      "metadata": {
        "colab": {
          "base_uri": "https://localhost:8080/"
        },
        "id": "Sc2RpD4k9znz",
        "outputId": "c9a857ba-e973-40d0-eaee-83c4a3e97e01"
      },
      "execution_count": null,
      "outputs": [
        {
          "output_type": "stream",
          "name": "stdout",
          "text": [
            "LLM Response:\n",
            " To calculate the average cost, divide the total purchase amount by the number of shares purchased to figure the average cost per share.\n"
          ]
        }
      ]
    },
    {
      "cell_type": "code",
      "source": [
        "# Call the LLM with input data and instruction\n",
        "input_data=pdf_text\n",
        "instruction=\"How to calculate average cost\"\n",
        "response = get_llm_response(input_data, instruction)\n",
        "print(\"LLM Response:\\n\",str(response))\n"
      ],
      "metadata": {
        "colab": {
          "base_uri": "https://localhost:8080/"
        },
        "id": "Q65A-Uax-x7q",
        "outputId": "fa46a662-9da9-43b8-d179-d005b31c1dab"
      },
      "execution_count": null,
      "outputs": [
        {
          "output_type": "stream",
          "name": "stdout",
          "text": [
            "LLM Response:\n",
            " Average total cost is calculated by dividing the total cost of production by the total number of units produced.\n"
          ]
        }
      ]
    },
    {
      "cell_type": "code",
      "source": [
        "# Call the LLM with input data and instruction\n",
        "input_data=pdf_text\n",
        "instruction=\"How is simple average defined?\"\n",
        "response = get_llm_response(input_data, instruction)\n",
        "print(\"LLM Response:\\n\",str(response))\n"
      ],
      "metadata": {
        "colab": {
          "base_uri": "https://localhost:8080/"
        },
        "id": "Q8Y_4xaGAVOB",
        "outputId": "d67ea9ce-3e78-4548-bad9-aef52ca27de5"
      },
      "execution_count": null,
      "outputs": [
        {
          "output_type": "stream",
          "name": "stdout",
          "text": [
            "LLM Response:\n",
            " A simple moving average (SMA) calculates the average of a selected range of prices, usually the closing prices of a security, by the number of periods in that range.\n"
          ]
        }
      ]
    },
    {
      "cell_type": "code",
      "source": [
        "# Call the LLM with input data and instruction\n",
        "input_data=pdf_text\n",
        "instruction=\"Define simple average\"\n",
        "response = get_llm_response(input_data, instruction)\n",
        "print(\"LLM Response:\\n\",str(response))\n"
      ],
      "metadata": {
        "colab": {
          "base_uri": "https://localhost:8080/"
        },
        "id": "sDT9A3n8AcmH",
        "outputId": "c7436b10-8c4b-4f1a-bd3f-d6545e638957"
      },
      "execution_count": null,
      "outputs": [
        {
          "output_type": "stream",
          "name": "stdout",
          "text": [
            "LLM Response:\n",
            " Average price is the mean price of an asset or security observed over some period of time. It is calculated by finding the simple arithmetic average of closing prices over a specified time period.\n"
          ]
        }
      ]
    },
    {
      "cell_type": "code",
      "source": [
        "# Call the LLM with input data and instruction\n",
        "input_data=pdf_text\n",
        "instruction=\"Define simple moving average\"\n",
        "response = get_llm_response(input_data, instruction)\n",
        "print(\"LLM Response:\\n\",str(response))\n"
      ],
      "metadata": {
        "colab": {
          "base_uri": "https://localhost:8080/"
        },
        "id": "2nsGs-fZBZCr",
        "outputId": "d502b630-a961-45ec-a3ec-f8bc62f777c3"
      },
      "execution_count": null,
      "outputs": [
        {
          "output_type": "stream",
          "name": "stdout",
          "text": [
            "LLM Response:\n",
            " A simple moving average (SMA) calculates the average of a selected range of prices, usually the closing prices of a security, by the number of periods in that range.\n"
          ]
        }
      ]
    },
    {
      "cell_type": "markdown",
      "source": [
        "#### References\n",
        "* https://huggingface.co/docs/transformers/model_doc/flan-t5\n",
        "* Finetuned models are zero-shot learners - FLAN, 2022 - https://arxiv.org/pdf/2109.01652.pdf\n",
        "* Scaling instruction fine-tuned models, 2022 - https://arxiv.org/pdf/2210.11416.pdf"
      ],
      "metadata": {
        "id": "pOohREfQbqT6"
      }
    }
  ]
}